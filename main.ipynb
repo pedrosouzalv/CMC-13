{
 "cells": [
  {
   "cell_type": "markdown",
   "metadata": {},
   "source": [
    "### 1. Importação de Bibliotecas Utilizadas"
   ]
  },
  {
   "cell_type": "code",
   "execution_count": 1,
   "metadata": {},
   "outputs": [],
   "source": [
    "import pandas as pd\n",
    "import numpy as np\n",
    "import matplotlib.pyplot as plt\n",
    "from datetime import timedelta"
   ]
  },
  {
   "cell_type": "markdown",
   "metadata": {},
   "source": [
    "### 2. Leitura e Junção dos Datasets"
   ]
  },
  {
   "cell_type": "code",
   "execution_count": 2,
   "metadata": {},
   "outputs": [],
   "source": [
    "#Leitura dos dados\n",
    "movies = pd.read_csv('movies.csv', sep = ';')\n",
    "ratings = pd.read_csv('ratings.csv', sep = ';')\n",
    "users = pd.read_csv('users.csv', sep = ',')\n",
    "\n",
    "#Junção dos dados por MovieID e UserID\n",
    "data = pd.merge(ratings, movies, on='MovieID', how='left')\n",
    "data = pd.merge(data, users, on='UserID', how='left')"
   ]
  },
  {
   "cell_type": "code",
   "execution_count": 3,
   "metadata": {},
   "outputs": [
    {
     "data": {
      "text/html": [
       "<div>\n",
       "<style scoped>\n",
       "    .dataframe tbody tr th:only-of-type {\n",
       "        vertical-align: middle;\n",
       "    }\n",
       "\n",
       "    .dataframe tbody tr th {\n",
       "        vertical-align: top;\n",
       "    }\n",
       "\n",
       "    .dataframe thead th {\n",
       "        text-align: right;\n",
       "    }\n",
       "</style>\n",
       "<table border=\"1\" class=\"dataframe\">\n",
       "  <thead>\n",
       "    <tr style=\"text-align: right;\">\n",
       "      <th></th>\n",
       "      <th>UserID</th>\n",
       "      <th>MovieID</th>\n",
       "      <th>Rating</th>\n",
       "      <th>Timestamp</th>\n",
       "      <th>Title</th>\n",
       "      <th>Genres</th>\n",
       "      <th>Gender</th>\n",
       "      <th>Occupation</th>\n",
       "      <th>Zip-code</th>\n",
       "      <th>name</th>\n",
       "      <th>birthday</th>\n",
       "    </tr>\n",
       "  </thead>\n",
       "  <tbody>\n",
       "    <tr>\n",
       "      <th>0</th>\n",
       "      <td>1</td>\n",
       "      <td>1193</td>\n",
       "      <td>5</td>\n",
       "      <td>978300760</td>\n",
       "      <td>One Flew Over the Cuckoo's Nest (1975)</td>\n",
       "      <td>Drama</td>\n",
       "      <td>F</td>\n",
       "      <td>10</td>\n",
       "      <td>48067</td>\n",
       "      <td>Isla Johnson</td>\n",
       "      <td>4/1/2012</td>\n",
       "    </tr>\n",
       "    <tr>\n",
       "      <th>1</th>\n",
       "      <td>1</td>\n",
       "      <td>661</td>\n",
       "      <td>3</td>\n",
       "      <td>978302109</td>\n",
       "      <td>James and the Giant Peach (1996)</td>\n",
       "      <td>Animation|Children's|Musical</td>\n",
       "      <td>F</td>\n",
       "      <td>10</td>\n",
       "      <td>48067</td>\n",
       "      <td>Isla Johnson</td>\n",
       "      <td>4/1/2012</td>\n",
       "    </tr>\n",
       "    <tr>\n",
       "      <th>2</th>\n",
       "      <td>1</td>\n",
       "      <td>914</td>\n",
       "      <td>3</td>\n",
       "      <td>978301968</td>\n",
       "      <td>My Fair Lady (1964)</td>\n",
       "      <td>Musical|Romance</td>\n",
       "      <td>F</td>\n",
       "      <td>10</td>\n",
       "      <td>48067</td>\n",
       "      <td>Isla Johnson</td>\n",
       "      <td>4/1/2012</td>\n",
       "    </tr>\n",
       "    <tr>\n",
       "      <th>3</th>\n",
       "      <td>1</td>\n",
       "      <td>3408</td>\n",
       "      <td>4</td>\n",
       "      <td>978300275</td>\n",
       "      <td>Erin Brockovich (2000)</td>\n",
       "      <td>Drama</td>\n",
       "      <td>F</td>\n",
       "      <td>10</td>\n",
       "      <td>48067</td>\n",
       "      <td>Isla Johnson</td>\n",
       "      <td>4/1/2012</td>\n",
       "    </tr>\n",
       "    <tr>\n",
       "      <th>4</th>\n",
       "      <td>1</td>\n",
       "      <td>2355</td>\n",
       "      <td>5</td>\n",
       "      <td>978824291</td>\n",
       "      <td>Bug's Life, A (1998)</td>\n",
       "      <td>Animation|Children's|Comedy</td>\n",
       "      <td>F</td>\n",
       "      <td>10</td>\n",
       "      <td>48067</td>\n",
       "      <td>Isla Johnson</td>\n",
       "      <td>4/1/2012</td>\n",
       "    </tr>\n",
       "    <tr>\n",
       "      <th>...</th>\n",
       "      <td>...</td>\n",
       "      <td>...</td>\n",
       "      <td>...</td>\n",
       "      <td>...</td>\n",
       "      <td>...</td>\n",
       "      <td>...</td>\n",
       "      <td>...</td>\n",
       "      <td>...</td>\n",
       "      <td>...</td>\n",
       "      <td>...</td>\n",
       "      <td>...</td>\n",
       "    </tr>\n",
       "    <tr>\n",
       "      <th>1000204</th>\n",
       "      <td>6040</td>\n",
       "      <td>1091</td>\n",
       "      <td>1</td>\n",
       "      <td>956716541</td>\n",
       "      <td>Weekend at Bernie's (1989)</td>\n",
       "      <td>Comedy</td>\n",
       "      <td>M</td>\n",
       "      <td>6</td>\n",
       "      <td>11106</td>\n",
       "      <td>John Evans</td>\n",
       "      <td>4/8/1988</td>\n",
       "    </tr>\n",
       "    <tr>\n",
       "      <th>1000205</th>\n",
       "      <td>6040</td>\n",
       "      <td>1094</td>\n",
       "      <td>5</td>\n",
       "      <td>956704887</td>\n",
       "      <td>Crying Game, The (1992)</td>\n",
       "      <td>Drama|Romance|War</td>\n",
       "      <td>M</td>\n",
       "      <td>6</td>\n",
       "      <td>11106</td>\n",
       "      <td>John Evans</td>\n",
       "      <td>4/8/1988</td>\n",
       "    </tr>\n",
       "    <tr>\n",
       "      <th>1000206</th>\n",
       "      <td>6040</td>\n",
       "      <td>562</td>\n",
       "      <td>5</td>\n",
       "      <td>956704746</td>\n",
       "      <td>Welcome to the Dollhouse (1995)</td>\n",
       "      <td>Comedy|Drama</td>\n",
       "      <td>M</td>\n",
       "      <td>6</td>\n",
       "      <td>11106</td>\n",
       "      <td>John Evans</td>\n",
       "      <td>4/8/1988</td>\n",
       "    </tr>\n",
       "    <tr>\n",
       "      <th>1000207</th>\n",
       "      <td>6040</td>\n",
       "      <td>1096</td>\n",
       "      <td>4</td>\n",
       "      <td>956715648</td>\n",
       "      <td>Sophie's Choice (1982)</td>\n",
       "      <td>Drama</td>\n",
       "      <td>M</td>\n",
       "      <td>6</td>\n",
       "      <td>11106</td>\n",
       "      <td>John Evans</td>\n",
       "      <td>4/8/1988</td>\n",
       "    </tr>\n",
       "    <tr>\n",
       "      <th>1000208</th>\n",
       "      <td>6040</td>\n",
       "      <td>1097</td>\n",
       "      <td>4</td>\n",
       "      <td>956715569</td>\n",
       "      <td>E.T. the Extra-Terrestrial (1982)</td>\n",
       "      <td>Children's|Drama|Fantasy|Sci-Fi</td>\n",
       "      <td>M</td>\n",
       "      <td>6</td>\n",
       "      <td>11106</td>\n",
       "      <td>John Evans</td>\n",
       "      <td>4/8/1988</td>\n",
       "    </tr>\n",
       "  </tbody>\n",
       "</table>\n",
       "<p>1000209 rows × 11 columns</p>\n",
       "</div>"
      ],
      "text/plain": [
       "         UserID  MovieID  Rating  Timestamp  \\\n",
       "0             1     1193       5  978300760   \n",
       "1             1      661       3  978302109   \n",
       "2             1      914       3  978301968   \n",
       "3             1     3408       4  978300275   \n",
       "4             1     2355       5  978824291   \n",
       "...         ...      ...     ...        ...   \n",
       "1000204    6040     1091       1  956716541   \n",
       "1000205    6040     1094       5  956704887   \n",
       "1000206    6040      562       5  956704746   \n",
       "1000207    6040     1096       4  956715648   \n",
       "1000208    6040     1097       4  956715569   \n",
       "\n",
       "                                          Title  \\\n",
       "0        One Flew Over the Cuckoo's Nest (1975)   \n",
       "1              James and the Giant Peach (1996)   \n",
       "2                           My Fair Lady (1964)   \n",
       "3                        Erin Brockovich (2000)   \n",
       "4                          Bug's Life, A (1998)   \n",
       "...                                         ...   \n",
       "1000204              Weekend at Bernie's (1989)   \n",
       "1000205                 Crying Game, The (1992)   \n",
       "1000206         Welcome to the Dollhouse (1995)   \n",
       "1000207                  Sophie's Choice (1982)   \n",
       "1000208       E.T. the Extra-Terrestrial (1982)   \n",
       "\n",
       "                                  Genres Gender  Occupation Zip-code  \\\n",
       "0                                  Drama      F          10    48067   \n",
       "1           Animation|Children's|Musical      F          10    48067   \n",
       "2                        Musical|Romance      F          10    48067   \n",
       "3                                  Drama      F          10    48067   \n",
       "4            Animation|Children's|Comedy      F          10    48067   \n",
       "...                                  ...    ...         ...      ...   \n",
       "1000204                           Comedy      M           6    11106   \n",
       "1000205                Drama|Romance|War      M           6    11106   \n",
       "1000206                     Comedy|Drama      M           6    11106   \n",
       "1000207                            Drama      M           6    11106   \n",
       "1000208  Children's|Drama|Fantasy|Sci-Fi      M           6    11106   \n",
       "\n",
       "                 name  birthday  \n",
       "0        Isla Johnson  4/1/2012  \n",
       "1        Isla Johnson  4/1/2012  \n",
       "2        Isla Johnson  4/1/2012  \n",
       "3        Isla Johnson  4/1/2012  \n",
       "4        Isla Johnson  4/1/2012  \n",
       "...               ...       ...  \n",
       "1000204    John Evans  4/8/1988  \n",
       "1000205    John Evans  4/8/1988  \n",
       "1000206    John Evans  4/8/1988  \n",
       "1000207    John Evans  4/8/1988  \n",
       "1000208    John Evans  4/8/1988  \n",
       "\n",
       "[1000209 rows x 11 columns]"
      ]
     },
     "execution_count": 3,
     "metadata": {},
     "output_type": "execute_result"
    }
   ],
   "source": [
    "data"
   ]
  },
  {
   "cell_type": "markdown",
   "metadata": {},
   "source": [
    "### 3. Tratamento das Features"
   ]
  },
  {
   "cell_type": "code",
   "execution_count": 4,
   "metadata": {},
   "outputs": [
    {
     "data": {
      "text/plain": [
       "UserID        0\n",
       "MovieID       0\n",
       "Rating        0\n",
       "Timestamp     0\n",
       "Title         0\n",
       "Genres        0\n",
       "Gender        0\n",
       "Occupation    0\n",
       "Zip-code      0\n",
       "name          0\n",
       "birthday      0\n",
       "dtype: int64"
      ]
     },
     "execution_count": 4,
     "metadata": {},
     "output_type": "execute_result"
    }
   ],
   "source": [
    "#Análise de dados faltantes\n",
    "data.isna().sum()"
   ]
  },
  {
   "cell_type": "code",
   "execution_count": 5,
   "metadata": {},
   "outputs": [
    {
     "data": {
      "image/png": "[encoded data removed]",
      "text/plain": [
       "<Figure size 432x288 with 1 Axes>"
      ]
     },
     "metadata": {
      "needs_background": "light"
     },
     "output_type": "display_data"
    }
   ],
   "source": [
    "# 1 - Tratamento: Data da Avaliação - Data do Filme = Idade do filme no dia da avaliação\n",
    "\n",
    "# 1.1 - Histograma da Data da Avaliação\n",
    "fig, axes = plt.subplots(nrows=1, ncols=1, sharex=True, sharey=True)\n",
    "\n",
    "pd.to_datetime(data['Timestamp'], unit='s').hist(bins = 10, ax=axes)\n",
    "plt.title('Histograma - Data da Avaliação')\n",
    "plt.xticks(rotation=45)\n",
    "plt.xlabel('Data da Avaliação')\n",
    "plt.ylabel('Frequência')\n",
    "plt.show();"
   ]
  },
  {
   "cell_type": "code",
   "execution_count": 6,
   "metadata": {},
   "outputs": [
    {
     "data": {
      "image/png": "[encoded data removed]",
      "text/plain": [
       "<Figure size 432x288 with 1 Axes>"
      ]
     },
     "metadata": {
      "needs_background": "light"
     },
     "output_type": "display_data"
    }
   ],
   "source": [
    "# 1.2 - Extração do ano do filme\n",
    "\n",
    "data['year_movie'] = pd.to_datetime(data['Title'].apply(lambda x: x[-5:-1]))\n",
    "fig, axes = plt.subplots(nrows=1, ncols=1, sharex=True, sharey=True)\n",
    "\n",
    "data['year_movie'].hist(bins = 20, ax=axes)\n",
    "plt.title('Histograma - Ano do Filme')\n",
    "plt.xticks(rotation=45)\n",
    "plt.xlabel('Ano do Filme')\n",
    "plt.ylabel('Frequência')\n",
    "plt.show();"
   ]
  },
  {
   "cell_type": "code",
   "execution_count": 7,
   "metadata": {},
   "outputs": [
    {
     "data": {
      "image/png": "[encoded data removed]",
      "text/plain": [
       "<Figure size 432x288 with 1 Axes>"
      ]
     },
     "metadata": {
      "needs_background": "light"
     },
     "output_type": "display_data"
    }
   ],
   "source": [
    "# 1.3 - Diferença entre o ano da avaliação e o ano de lançamento do filme\n",
    "data['movie_age_on_rank'] = (pd.to_datetime(data['Timestamp'], unit='s').dt.year - pd.to_datetime(data['Title'].apply(lambda x: x[-5:-1])).dt.year).astype(int)\n",
    "\n",
    "fig, axes = plt.subplots(nrows=1, ncols=1, sharex=True, sharey=True)\n",
    "\n",
    "data['movie_age_on_rank'].hist(bins = 25, ax=axes)\n",
    "plt.title('Histograma - Idade do Filme no momento da Avaliação')\n",
    "plt.xticks(rotation=45)\n",
    "plt.xlabel('Idade do Filme')\n",
    "plt.ylabel('Frequência')\n",
    "plt.show();"
   ]
  },
  {
   "cell_type": "code",
   "execution_count": 8,
   "metadata": {},
   "outputs": [],
   "source": [
    "# 1.4 Transformação da idade do filme em atributo categórico\n",
    "\n",
    "bins = [-1, 1, 3, 6, 10, 15, 30, np.inf]\n",
    "labels = ['[0, 1]', '[2, 3]', '[4, 6]', '[7, 10]', '[11, 15]', '[16, 30]', '[31, ...)']\n",
    "data['cat_movie_age'] = pd.cut(data['movie_age_on_rank'], bins = bins, labels = labels)"
   ]
  },
  {
   "cell_type": "code",
   "execution_count": 9,
   "metadata": {},
   "outputs": [
    {
     "data": {
      "image/png": "[encoded data removed]",
      "text/plain": [
       "<Figure size 432x288 with 1 Axes>"
      ]
     },
     "metadata": {
      "needs_background": "light"
     },
     "output_type": "display_data"
    }
   ],
   "source": [
    "# 2 - Tratamento: Idade do usuário (considerando 2022 como referência)\n",
    "\n",
    "#2.1 - Histograma da Data de nascimento do usuário\n",
    "fig, axes = plt.subplots(nrows=1, ncols=1, sharex=True, sharey=True)\n",
    "\n",
    "pd.to_datetime(data['birthday'], format=\"%m/%d/%Y\", errors = \"coerce\").hist(bins = 20, ax=axes)\n",
    "plt.title('Histograma - Data de Nascimento')\n",
    "plt.xlabel('Data de nascimento')\n",
    "plt.ylabel('Frequência')\n",
    "plt.show();"
   ]
  },
  {
   "cell_type": "code",
   "execution_count": 10,
   "metadata": {},
   "outputs": [
    {
     "name": "stdout",
     "output_type": "stream",
     "text": [
      "Dias:\n",
      " Dia mínimo: 0 / Dia máximo: 28\n",
      "Meses:\n",
      " Mês mínimo: 1 / Mês máximo: 11\n",
      "Anos:\n",
      " Ano mínimo: 1958 / Ano máximo: 2014\n",
      "Dias Corrigidos:\n",
      " Dia mínimo: 1 / Dia máximo: 28\n"
     ]
    }
   ],
   "source": [
    "# 2.2 Análise de inconsistência no atributo birthday\n",
    "\n",
    "data['day_birthday'] = data['birthday'].apply(lambda x: int(str(x).split(\"/\")[1]))\n",
    "data['month_birthday'] = data['birthday'].apply(lambda x: int(str(x).split(\"/\")[0]))\n",
    "data['year_birthday'] = data['birthday'].apply(lambda x: int(str(x).split(\"/\")[2]))\n",
    "\n",
    "# Problemas: Os dias foram gerados considerando zero como base.\n",
    "\n",
    "print('Dias:\\n',\n",
    "      'Dia mínimo:', data['day_birthday'].min(), '/',\n",
    "      'Dia máximo:', data['day_birthday'].max())\n",
    "\n",
    "print('Meses:\\n',\n",
    "      'Mês mínimo:', data['month_birthday'].min(), '/',\n",
    "      'Mês máximo:', data['month_birthday'].max())\n",
    "\n",
    "print('Anos:\\n',\n",
    "      'Ano mínimo:', data['year_birthday'].min(), '/',\n",
    "      'Ano máximo:', data['year_birthday'].max())\n",
    "\n",
    "# Correção: Adicionou-se 1 à data de nascimento de todos que nasceram no \"dia zero\" \n",
    "\n",
    "data['day_birthday'] = data['day_birthday'].replace(0,1)\n",
    "\n",
    "print('Dias Corrigidos:\\n',\n",
    "      'Dia mínimo:', data['day_birthday'].min(), '/',\n",
    "      'Dia máximo:', data['day_birthday'].max())\n",
    "\n",
    "data['fixed_birthday'] = data['day_birthday'].astype(str) + '/' +\\\n",
    "                         data['month_birthday'].astype(str) + '/' +\\\n",
    "                                data['year_birthday'].astype(str)\n",
    "\n",
    "data = data.drop(['day_birthday','month_birthday','year_birthday'], axis = 1)"
   ]
  },
  {
   "cell_type": "code",
   "execution_count": 11,
   "metadata": {},
   "outputs": [
    {
     "data": {
      "image/png": "[encoded data removed]",
      "text/plain": [
       "<Figure size 432x288 with 1 Axes>"
      ]
     },
     "metadata": {
      "needs_background": "light"
     },
     "output_type": "display_data"
    }
   ],
   "source": [
    "# 2.2 - Histograma da idade do usuário em 01/01/2022\n",
    "\n",
    "fig, axes = plt.subplots(nrows=1, ncols=1, sharex=True, sharey=True)\n",
    "\n",
    "data['user_age'] = ((pd.to_datetime('2022') - pd.to_datetime(data['fixed_birthday'], format=\"%d/%m/%Y\"))/timedelta(days=365)).astype(int)\n",
    "data['user_age'].hist(bins = 10, ax=axes)\n",
    "plt.title('Histograma da Idade do Usuário')\n",
    "plt.xlabel('Idade')\n",
    "plt.ylabel('Frequência')\n",
    "plt.plot();"
   ]
  },
  {
   "cell_type": "code",
   "execution_count": 12,
   "metadata": {},
   "outputs": [],
   "source": [
    "# 2.3 Transformação da idade do usuário em atributo categórico\n",
    "\n",
    "bins = [-1, 17, 24, 34, 44, 49, 55, np.inf]\n",
    "labels = ['[0, 17]', '[18, 24]', '[25, 34]', '[35, 44]', '[45, 49]', '[50, 55]', '[56, ...)']\n",
    "data['cat_user_age'] = pd.cut(data['user_age'], bins = bins, labels = labels)"
   ]
  },
  {
   "cell_type": "code",
   "execution_count": 13,
   "metadata": {},
   "outputs": [],
   "source": [
    "# 3 - Tratamento: Pivoteando Gêneros, ou seja, criando uma coluna por gênero e atribuindo 1 se o filme pertence àquele gênero.\n",
    "list_genres = [\n",
    "                'Action',\n",
    "                'Adventure',\n",
    "                'Animation',\n",
    "                'Children\\'s',\n",
    "                'Comedy',\n",
    "                'Crime',\n",
    "                'Documentary',\n",
    "                'Drama',\n",
    "                'Fantasy',\n",
    "                'Film-Noir',\n",
    "                'Horror',\n",
    "                'Musical',\n",
    "                'Mystery',\n",
    "                'Romance',\n",
    "                'Sci-Fi',\n",
    "                'Thriller',\n",
    "                'War',\n",
    "                'Western'\n",
    "            ]\n",
    "\n",
    "def pivot_genres(x):\n",
    "    values = [0]*len(list_genres)\n",
    "    for ind in [list_genres.index(genre) for genre in x]:\n",
    "        values[ind] = 1\n",
    "    return pd.Series(values, index=list_genres)\n",
    "\n",
    "data[list_genres] = data['Genres'].str.split('|').apply(pivot_genres)"
   ]
  },
  {
   "cell_type": "code",
   "execution_count": null,
   "metadata": {},
   "outputs": [],
   "source": [
    "# 4 - Trazendo a descrição da ocupação\n",
    "dict_occupation = {\n",
    "                    0:  \"other\",\n",
    "                    1:  \"academic/educator\",\n",
    "                    2:  \"artist\",\n",
    "                    3:  \"clerical/admin\",\n",
    "                    4:  \"college/grad student\",\n",
    "                    5:  \"customer service\",\n",
    "                    6:  \"doctor/health care\",\n",
    "                    7:  \"executive/managerial\",\n",
    "                    8:  \"farmer\",\n",
    "                    9:  \"homemaker\",\n",
    "                    10:  \"K-12 student\",\n",
    "                    11:  \"lawyer\",\n",
    "                    12:  \"programmer\",\n",
    "                    13:  \"retired\",\n",
    "                    14:  \"sales/marketing\",\n",
    "                    15:  \"scientist\",\n",
    "                    16:  \"self-employed\",\n",
    "                    17:  \"technician/engineer\",\n",
    "                    18:  \"tradesman/craftsman\",\n",
    "                    19:  \"unemployed\",\n",
    "                    20:  \"writer\"\n",
    "                }\n",
    "data['Occupation'] = data['Occupation'].apply(lambda x: dict_occupation[x])"
   ]
  },
  {
   "cell_type": "markdown",
   "metadata": {},
   "source": [
    "### Zip Code - Description\n",
    "![Zip Code Description](imagens/zipcode_desc.png \"Zip Code\")\n"
   ]
  },
  {
   "cell_type": "markdown",
   "metadata": {},
   "source": [
    "### Zip Code - Map\n",
    "![Zip Code Map](imagens/zipcode.png \"Zip Code Map\")"
   ]
  },
  {
   "cell_type": "code",
   "execution_count": null,
   "metadata": {},
   "outputs": [],
   "source": [
    "# 5 - Extraindo Macro Área (National Area) do Zip Code\n",
    "data['National Area'] = data['Zip-code'].str[0]"
   ]
  },
  {
   "cell_type": "markdown",
   "metadata": {},
   "source": [
    "### 4. Features Usadas no Modelo"
   ]
  },
  {
   "cell_type": "code",
   "execution_count": null,
   "metadata": {},
   "outputs": [],
   "source": [
    "cols = ['Gender', 'Occupation', 'cat_user_age','cat_movie_age','National Area',\n",
    "       'Action', 'Adventure', 'Animation', 'Children\\'s', 'Comedy', 'Crime',\n",
    "       'Documentary', 'Drama', 'Fantasy', 'Film-Noir', 'Horror', 'Musical',\n",
    "       'Mystery', 'Romance', 'Sci-Fi', 'Thriller', 'War', 'Western']\n",
    "\n",
    "X = data[cols]\n",
    "y = data[['Rating']]"
   ]
  },
  {
   "cell_type": "code",
   "execution_count": null,
   "metadata": {},
   "outputs": [],
   "source": [
    "resume = pd.DataFrame(y.value_counts())\n",
    "resume.columns = ['Quantidade']\n",
    "resume['Quantidade(%)'] = round(100*resume['Quantidade']/resume['Quantidade'].sum(),1)\n",
    "resume"
   ]
  },
  {
   "cell_type": "code",
   "execution_count": null,
   "metadata": {},
   "outputs": [],
   "source": [
    "categorical_columns = ['Gender', 'Occupation', 'cat_user_age', 'cat_movie_age', 'National Area']\n",
    "for column in categorical_columns:\n",
    "    df = pd.get_dummies(X[column], prefix=column)\n",
    "    X = pd.merge(\n",
    "        left=X,\n",
    "        right=df,\n",
    "        left_index=True,\n",
    "        right_index=True,\n",
    "    )\n",
    "    X = X.drop(columns=column)"
   ]
  },
  {
   "cell_type": "markdown",
   "metadata": {},
   "source": [
    "### 5. Separação de Grupo de Teste"
   ]
  },
  {
   "cell_type": "code",
   "execution_count": null,
   "metadata": {},
   "outputs": [],
   "source": [
    "from sklearn.model_selection import train_test_split\n",
    "X_train, X_test, y_train, y_test = train_test_split(X, y,\n",
    "                                                    test_size = 0.1)"
   ]
  },
  {
   "cell_type": "markdown",
   "metadata": {},
   "source": [
    "### 6. ID3"
   ]
  },
  {
   "cell_type": "markdown",
   "metadata": {},
   "source": [
    "A entropia pode ser cálculada como,\n",
    "$$\n",
    "    H(S) = \\sum_{i=1}^{N}-p_i\\log_2 p_i\n",
    "$$\n",
    "\n",
    "onde $p_i$ é a proporção de cada categoria $i=1,\\dots,n$"
   ]
  },
  {
   "cell_type": "markdown",
   "metadata": {},
   "source": [
    "O ganho de informação é um conceito baseado na entropia. \n",
    "\n",
    "É definido como a entropia total menos a entropia se escolhermos uma feature particular j:\n",
    "\n",
    "$$\n",
    "G(S,j) = H(S) - \\sum_{j}\\frac{|S_j|}{|S|}H(S_j)\n",
    "$$ "
   ]
  },
  {
   "cell_type": "markdown",
   "metadata": {},
   "source": [
    "*Obs.: o ID3 foi implementado no arquivo id3.py "
   ]
  },
  {
   "cell_type": "code",
   "execution_count": null,
   "metadata": {},
   "outputs": [],
   "source": [
    "from id3 import ID3Classifier"
   ]
  },
  {
   "cell_type": "markdown",
   "metadata": {},
   "source": [
    "### 7. Treino"
   ]
  },
  {
   "cell_type": "code",
   "execution_count": null,
   "metadata": {},
   "outputs": [],
   "source": [
    "model = ID3Classifier()\n",
    "model.fit(X_train, y_train)"
   ]
  },
  {
   "cell_type": "markdown",
   "metadata": {},
   "source": [
    "### 8. Avaliação"
   ]
  },
  {
   "cell_type": "code",
   "execution_count": null,
   "metadata": {},
   "outputs": [],
   "source": [
    "predictions = model.predict(X_test)"
   ]
  },
  {
   "cell_type": "code",
   "execution_count": null,
   "metadata": {},
   "outputs": [],
   "source": [
    "from sklearn.metrics import confusion_matrix\n",
    "def plot_confusion_matrix(cm, classes,\n",
    "                          normalize=False,\n",
    "                          title='Confusion matrix',\n",
    "                          cmap=plt.cm.Blues):\n",
    "    import itertools\n",
    "    if normalize:\n",
    "        cm = cm.astype('float') / cm.sum(axis=1)[:, np.newaxis]\n",
    "        print(\"Normalized confusion matrix\")\n",
    "    else:\n",
    "        print('Confusion matrix, without normalization')\n",
    "    plt.imshow(cm, interpolation='nearest', cmap=cmap)\n",
    "    plt.title(title)\n",
    "    plt.colorbar()\n",
    "    tick_marks = np.arange(len(classes))\n",
    "    plt.xticks(tick_marks, classes, rotation=45)\n",
    "    plt.yticks(tick_marks, classes)\n",
    "\n",
    "    fmt = '.2f' if normalize else 'd'\n",
    "    thresh = cm.max() / 2.\n",
    "    for i, j in itertools.product(range(cm.shape[0]), range(cm.shape[1])):\n",
    "        plt.text(j, i, format(cm[i, j], fmt),\n",
    "                 horizontalalignment=\"center\",\n",
    "                 color=\"white\" if cm[i, j] > thresh else \"black\")\n",
    "\n",
    "    plt.ylabel('True label')\n",
    "    plt.xlabel('Predicted label')\n",
    "    plt.tight_layout()"
   ]
  },
  {
   "cell_type": "code",
   "execution_count": null,
   "metadata": {},
   "outputs": [],
   "source": [
    "cnf_matrix = confusion_matrix(y_test, predictions)\n",
    "np.set_printoptions(precision=2)\n",
    "\n",
    "plt.figure()\n",
    "plot_confusion_matrix(cnf_matrix, classes=[1, 2, 3, 4 ,5],\n",
    "                      title='Ratings', normalize = True)\n",
    "                      \n",
    "FP = cnf_matrix.sum(axis=0) - np.diag(cnf_matrix) \n",
    "FN = cnf_matrix.sum(axis=1) - np.diag(cnf_matrix)\n",
    "TP = np.diag(cnf_matrix)\n",
    "TN = cnf_matrix.sum() - (FP + FN + TP)\n",
    "FP = FP.astype(float)\n",
    "FN = FN.astype(float)\n",
    "TP = TP.astype(float)\n",
    "TN = TN.astype(float)\n",
    "\n",
    "# Recall\n",
    "R = TP/(TP+FN)\n",
    "# Precision \n",
    "P = TP/(TP+FP)\n",
    "# Accuracy \n",
    "ACC = (TP+TN)/(TP+FP+FN+TN)"
   ]
  },
  {
   "cell_type": "code",
   "execution_count": null,
   "metadata": {},
   "outputs": [],
   "source": [
    "R"
   ]
  },
  {
   "cell_type": "code",
   "execution_count": null,
   "metadata": {},
   "outputs": [],
   "source": [
    "P"
   ]
  },
  {
   "cell_type": "code",
   "execution_count": null,
   "metadata": {},
   "outputs": [],
   "source": [
    "ACC"
   ]
  },
  {
   "cell_type": "code",
   "execution_count": null,
   "metadata": {},
   "outputs": [],
   "source": [
    "from sklearn.metrics import cohen_kappa_score\n",
    "cohen_kappa_score(y_test, predictions)"
   ]
  },
  {
   "cell_type": "code",
   "execution_count": null,
   "metadata": {},
   "outputs": [],
   "source": [
    "from sklearn.metrics import mean_squared_error\n",
    "mean_squared_error(y_test, predictions)"
   ]
  },
  {
   "cell_type": "markdown",
   "metadata": {},
   "source": [
    "### 9. Classificador a priori"
   ]
  },
  {
   "cell_type": "code",
   "execution_count": null,
   "metadata": {},
   "outputs": [],
   "source": [
    "mask_train = X_train.index.to_list()\n",
    "mask_test  = X_test.index.to_list()\n",
    "\n",
    "df_train = data.loc[mask_train]\n",
    "df_test  = data.loc[mask_test]"
   ]
  },
  {
   "cell_type": "code",
   "execution_count": null,
   "metadata": {},
   "outputs": [],
   "source": [
    "# Dicionário Filme -> Nota média truncada\n",
    "df_dict = data.groupby('Title').agg({'Rating':'mean'}).astype(int)"
   ]
  },
  {
   "cell_type": "code",
   "execution_count": null,
   "metadata": {},
   "outputs": [],
   "source": [
    "def pred_class_apriori(df):\n",
    "    return df['Title'].apply(lambda x: df_dict.loc[x][0]).values"
   ]
  },
  {
   "cell_type": "code",
   "execution_count": null,
   "metadata": {},
   "outputs": [],
   "source": [
    "predictions_apriori = pred_class_apriori(df_test)"
   ]
  },
  {
   "cell_type": "code",
   "execution_count": null,
   "metadata": {},
   "outputs": [],
   "source": [
    "cnf_matrix = confusion_matrix(y_test, predictions_apriori)\n",
    "np.set_printoptions(precision=2)\n",
    "\n",
    "plt.figure()\n",
    "plot_confusion_matrix(cnf_matrix, classes=[1, 2, 3, 4 ,5],\n",
    "                      title='Ratings', normalize = True);"
   ]
  },
  {
   "cell_type": "code",
   "execution_count": null,
   "metadata": {},
   "outputs": [],
   "source": [
    "cnf_matrix = confusion_matrix(y_test, predictions_apriori)\n",
    "FP = cnf_matrix.sum(axis=0) - np.diag(cnf_matrix) \n",
    "FN = cnf_matrix.sum(axis=1) - np.diag(cnf_matrix)\n",
    "TP = np.diag(cnf_matrix)\n",
    "TN = cnf_matrix.sum() - (FP + FN + TP)\n",
    "FP = FP.astype(float)\n",
    "FN = FN.astype(float)\n",
    "TP = TP.astype(float)\n",
    "TN = TN.astype(float)\n",
    "\n",
    "# Recall\n",
    "R = TP/(TP+FN)\n",
    "# Precision \n",
    "P = TP/(TP+FP)\n",
    "# Accuracy \n",
    "ACC = (TP+TN)/(TP+FP+FN+TN)"
   ]
  },
  {
   "cell_type": "code",
   "execution_count": null,
   "metadata": {},
   "outputs": [],
   "source": [
    "R"
   ]
  },
  {
   "cell_type": "code",
   "execution_count": null,
   "metadata": {},
   "outputs": [],
   "source": [
    "P"
   ]
  },
  {
   "cell_type": "code",
   "execution_count": null,
   "metadata": {},
   "outputs": [],
   "source": [
    "ACC"
   ]
  },
  {
   "cell_type": "code",
   "execution_count": null,
   "metadata": {},
   "outputs": [],
   "source": [
    "cohen_kappa_score(y_test, predictions_apriori)"
   ]
  },
  {
   "cell_type": "code",
   "execution_count": null,
   "metadata": {},
   "outputs": [],
   "source": [
    "mean_squared_error(y_test, predictions_apriori)"
   ]
  }
 ],
 "metadata": {
  "interpreter": {
   "hash": "885c827cd822ba134d644bf7ec93dbbe54e503b864e406fdb8a7c16e78521c44"
  },
  "kernelspec": {
   "display_name": "Python 3.8.10 64-bit",
   "language": "python",
   "name": "python3"
  },
  "language_info": {
   "codemirror_mode": {
    "name": "ipython",
    "version": 3
   },
   "file_extension": ".py",
   "mimetype": "text/x-python",
   "name": "python",
   "nbconvert_exporter": "python",
   "pygments_lexer": "ipython3",
   "version": "3.8.10"
  },
  "orig_nbformat": 4
 },
 "nbformat": 4,
 "nbformat_minor": 2
}
